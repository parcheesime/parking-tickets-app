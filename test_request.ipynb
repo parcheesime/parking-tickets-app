{
 "cells": [
  {
   "cell_type": "markdown",
   "metadata": {},
   "source": [
    "[Parking Tickets API](https://dev.socrata.com/foundry/data.lacity.org/4f5p-udkv)\n",
    "\n",
    "[Paging through Data](https://dev.socrata.com/docs/paging)"
   ]
  },
  {
   "cell_type": "code",
   "execution_count": 1,
   "metadata": {},
   "outputs": [],
   "source": [
    "import requests\n",
    "import json\n",
    "from config import get_api_token"
   ]
  },
  {
   "cell_type": "code",
   "execution_count": 2,
   "metadata": {},
   "outputs": [
    {
     "name": "stdout",
     "output_type": "stream",
     "text": [
      "ZzVI2vN6lETzguOojTmivo03L\n"
     ]
    }
   ],
   "source": [
    "# token, adjust tickets limits\n",
    "\n",
    "app_token = get_api_token()\n",
    "print(app_token)\n",
    "base_url = 'https://data.lacity.org/resource/4f5p-udkv.json'\n",
    "\n",
    "# get headers\n",
    "headers = {\n",
    "    'Accept': 'application/json',  \n",
    "    'X-App-Token': app_token  \n",
    "}\n",
    "    \n",
    "# Define the schema with default values\n",
    "schema = {\n",
    "    'agency': None,\n",
    "    'agency_desc': None,\n",
    "    'body_style': None,\n",
    "    'body_style_desc': None,\n",
    "    'color': None,\n",
    "    'color_desc': None,\n",
    "    'fine_amount': None,\n",
    "    'issue_date': None,\n",
    "    'issue_time': None,\n",
    "    'loc_lat': None,\n",
    "    'loc_long': None,\n",
    "    'location': None,\n",
    "    'make': None,\n",
    "    'marked_time': None,\n",
    "    'meter_id': None,\n",
    "    'plate_expiry_date': None,\n",
    "    'rp_state_plate': None,\n",
    "    'ticket_number': None,\n",
    "    'violation_code': None,\n",
    "    'violation_description': None\n",
    "}\n",
    "\n",
    "def apply_schema(data, schema):\n",
    "    \"\"\"Apply the schema to individual data entries.\"\"\"\n",
    "    return {key: data.get(key, schema[key]) for key in schema}\n",
    "\n",
    "\n",
    "def fetch_pages(base_url, limit, pages, schema, headers):\n",
    "    all_data = []\n",
    "    order = \"issue_date ASC, issue_time ASC, ticket_number ASC\"  # Ordering by date, time, then ticket number\n",
    "    for page in range(pages):\n",
    "        offset = limit * page\n",
    "        url = f\"{base_url}?$limit={limit}&$offset={offset}&$order={order}\"\n",
    "        response = requests.get(url, headers=headers)\n",
    "        \n",
    "        if response.status_code == 200:\n",
    "            raw_data = response.json()\n",
    "            # Apply the schema to each item in the data\n",
    "            normalized_data = [apply_schema(item, schema) for item in raw_data]\n",
    "            all_data.extend(normalized_data)\n",
    "            print(f\"Fetched page {page + 1} with {len(normalized_data)} records.\")\n",
    "        else:\n",
    "            print(f\"Failed to fetch data on page {page + 1}: {response.status_code}\")\n",
    "            break\n",
    "    \n",
    "    return all_data\n",
    "\n",
    "def fetch_and_count_records(base_url, limit, page_count):\n",
    "    all_data = []\n",
    "    for page in range(page_count):\n",
    "        offset = limit * page\n",
    "        url = f\"{base_url}?$limit={limit}&$offset={offset}\"\n",
    "        response = requests.get(url)\n",
    "\n",
    "        if response.status_code == 200:\n",
    "            data = response.json()\n",
    "            all_data.extend(data) \n",
    "            print(f\"Page {page + 1}: Fetched {len(data)} records.\")\n",
    "        else:\n",
    "            print(f\"Error fetching page {page + 1}: HTTP {response.status_code}\")\n",
    "            break  # exit the loop on error\n",
    "    return all_data\n",
    "\n"
   ]
  },
  {
   "cell_type": "code",
   "execution_count": 3,
   "metadata": {},
   "outputs": [],
   "source": [
    "# adding ticket data to existing data\n",
    "\n",
    "def fetch_additional_records(base_url, limit, existing_data, schema, headers):\n",
    "    if not existing_data:\n",
    "        print(\"No existing data to determine the latest record.\")\n",
    "        return\n",
    "\n",
    "    # Sort existing data by issue_date and ticket_number to find the latest one\n",
    "    existing_data_sorted = sorted(existing_data, key=lambda x: (x['issue_date'], int(x['ticket_number'])))\n",
    "    latest_record = existing_data_sorted[-1]\n",
    "    \n",
    "    # Build a condition to fetch records after the latest one\n",
    "    where_condition = f\"issue_date>'{latest_record['issue_date']}' OR (issue_date='{latest_record['issue_date']}' AND ticket_number>'{latest_record['ticket_number']}')\"\n",
    "\n",
    "    # Prepare the URL with the where condition\n",
    "    url = f\"{base_url}?$limit={limit}&$where={where_condition}&$order=issue_date ASC, ticket_number ASC\"\n",
    "    response = requests.get(url, headers=headers)\n",
    "\n",
    "    if response.status_code == 200:\n",
    "        new_data = response.json()\n",
    "        if not new_data:\n",
    "            print(\"No new data found.\")\n",
    "            return\n",
    "\n",
    "        # Apply the schema to each incoming record\n",
    "        normalized_new_data = [apply_schema(record, schema) for record in new_data]\n",
    "        \n",
    "        # Merge new records\n",
    "        existing_data.extend(normalized_new_data)\n",
    "        print(f\"Added {len(normalized_new_data)} new records to the existing data.\")\n",
    "    else:\n",
    "        print(f\"Failed to fetch data: {response.status_code}\")\n",
    "\n",
    "# Example usage and other parts of the code should be adjusted as needed.\n"
   ]
  },
  {
   "cell_type": "code",
   "execution_count": 4,
   "metadata": {},
   "outputs": [
    {
     "name": "stdout",
     "output_type": "stream",
     "text": [
      "Fetched page 1 with 1050 records.\n",
      "Total records fetched: 1050\n"
     ]
    }
   ],
   "source": [
    "import pprint\n",
    "limit = 1050  # records per page\n",
    "pages = 1  # pages to fetch\n",
    "order =  \"ticket_number\"\n",
    "data = fetch_pages(base_url, limit, pages, schema, headers)\n",
    "\n",
    "print(f\"Total records fetched: {len(data)}\")\n",
    "\n",
    "pp = pprint.PrettyPrinter(indent=4)\n",
    "\n",
    "existing = (data[:5])  # first 5 records"
   ]
  },
  {
   "cell_type": "code",
   "execution_count": 5,
   "metadata": {},
   "outputs": [
    {
     "name": "stdout",
     "output_type": "stream",
     "text": [
      "[{'agency': '2', 'agency_desc': 'LAX CURRENT', 'body_style': 'PA', 'body_style_desc': 'PASSENGER CAR', 'color': 'WH', 'color_desc': None, 'fine_amount': None, 'issue_date': '1950-07-15T00:00:00.000', 'issue_time': '1550', 'loc_lat': '33.9430863', 'loc_long': '-118.3995274', 'location': '701 WORLD WAY', 'make': 'LAND', 'marked_time': None, 'meter_id': None, 'plate_expiry_date': '201910', 'rp_state_plate': 'CA', 'ticket_number': '1127488375', 'violation_code': None, 'violation_description': None}, {'agency': '1', 'agency_desc': 'WESTERN', 'body_style': 'SU', 'body_style_desc': None, 'color': 'BK', 'color_desc': 'BLACK', 'fine_amount': None, 'issue_date': '1962-01-30T00:00:00.000', 'issue_time': '1650', 'loc_lat': '34.0337275', 'loc_long': '-118.2653638', 'location': '8TH ST W/O HILL ST', 'make': 'JEEP', 'marked_time': None, 'meter_id': 'CB3235', 'plate_expiry_date': '202005', 'rp_state_plate': 'CA', 'ticket_number': '1121858091', 'violation_code': None, 'violation_description': None}, {'agency': '1', 'agency_desc': 'WESTERN', 'body_style': 'PA', 'body_style_desc': 'PASSENGER CAR', 'color': 'BK', 'color_desc': 'BLACK', 'fine_amount': None, 'issue_date': '1970-01-31T00:00:00.000', 'issue_time': '1840', 'loc_lat': '34.0367254', 'loc_long': '-118.2682253', 'location': 'VENICE-PEMBROKE', 'make': 'HOND', 'marked_time': None, 'meter_id': None, 'plate_expiry_date': '202003', 'rp_state_plate': 'CA', 'ticket_number': '1121875510', 'violation_code': None, 'violation_description': None}, {'agency': '1', 'agency_desc': 'WESTERN', 'body_style': 'PA', 'body_style_desc': 'PASSENGER CAR', 'color': 'GY', 'color_desc': 'GREY', 'fine_amount': None, 'issue_date': '1972-01-22T00:00:00.000', 'issue_time': '1555', 'loc_lat': '34.1564506', 'loc_long': '-118.4391616', 'location': '14000 RIVERSIDE DR', 'make': 'TOYO', 'marked_time': None, 'meter_id': None, 'plate_expiry_date': '202009', 'rp_state_plate': 'CA', 'ticket_number': '1121270581', 'violation_code': None, 'violation_description': None}, {'agency': '1', 'agency_desc': 'WESTERN', 'body_style': 'PA', 'body_style_desc': 'PASSENGER CAR', 'color': 'TA', 'color_desc': None, 'fine_amount': None, 'issue_date': '1972-01-30T00:00:00.000', 'issue_time': '1805', 'loc_lat': '34.0451361', 'loc_long': '-118.256675', 'location': '8TH ST W/O OLIVE', 'make': 'TOYO', 'marked_time': None, 'meter_id': None, 'plate_expiry_date': '202004', 'rp_state_plate': 'CA', 'ticket_number': '1121858124', 'violation_code': None, 'violation_description': None}]\n"
     ]
    }
   ],
   "source": [
    "print(existing)"
   ]
  },
  {
   "cell_type": "code",
   "execution_count": 6,
   "metadata": {},
   "outputs": [
    {
     "name": "stdout",
     "output_type": "stream",
     "text": [
      "Added 5 new records to the existing data.\n"
     ]
    }
   ],
   "source": [
    "# merging ticket data \n",
    "limit = 5  # Adjust as needed\n",
    "\n",
    "# Assuming `existing` is your existing dataset\n",
    "fetch_additional_records(base_url, limit, existing, schema, headers)"
   ]
  },
  {
   "cell_type": "code",
   "execution_count": 7,
   "metadata": {},
   "outputs": [
    {
     "name": "stdout",
     "output_type": "stream",
     "text": [
      "{'agency': '2', 'agency_desc': 'LAX CURRENT', 'body_style': 'PA', 'body_style_desc': 'PASSENGER CAR', 'color': 'WH', 'color_desc': None, 'fine_amount': None, 'issue_date': '1950-07-15T00:00:00.000', 'issue_time': '1550', 'loc_lat': '33.9430863', 'loc_long': '-118.3995274', 'location': '701 WORLD WAY', 'make': 'LAND', 'marked_time': None, 'meter_id': None, 'plate_expiry_date': '201910', 'rp_state_plate': 'CA', 'ticket_number': '1127488375', 'violation_code': None, 'violation_description': None}\n",
      "{'agency': '1', 'agency_desc': 'WESTERN', 'body_style': 'SU', 'body_style_desc': None, 'color': 'BK', 'color_desc': 'BLACK', 'fine_amount': None, 'issue_date': '1962-01-30T00:00:00.000', 'issue_time': '1650', 'loc_lat': '34.0337275', 'loc_long': '-118.2653638', 'location': '8TH ST W/O HILL ST', 'make': 'JEEP', 'marked_time': None, 'meter_id': 'CB3235', 'plate_expiry_date': '202005', 'rp_state_plate': 'CA', 'ticket_number': '1121858091', 'violation_code': None, 'violation_description': None}\n",
      "{'agency': '1', 'agency_desc': 'WESTERN', 'body_style': 'PA', 'body_style_desc': 'PASSENGER CAR', 'color': 'BK', 'color_desc': 'BLACK', 'fine_amount': None, 'issue_date': '1970-01-31T00:00:00.000', 'issue_time': '1840', 'loc_lat': '34.0367254', 'loc_long': '-118.2682253', 'location': 'VENICE-PEMBROKE', 'make': 'HOND', 'marked_time': None, 'meter_id': None, 'plate_expiry_date': '202003', 'rp_state_plate': 'CA', 'ticket_number': '1121875510', 'violation_code': None, 'violation_description': None}\n",
      "{'agency': '1', 'agency_desc': 'WESTERN', 'body_style': 'PA', 'body_style_desc': 'PASSENGER CAR', 'color': 'GY', 'color_desc': 'GREY', 'fine_amount': None, 'issue_date': '1972-01-22T00:00:00.000', 'issue_time': '1555', 'loc_lat': '34.1564506', 'loc_long': '-118.4391616', 'location': '14000 RIVERSIDE DR', 'make': 'TOYO', 'marked_time': None, 'meter_id': None, 'plate_expiry_date': '202009', 'rp_state_plate': 'CA', 'ticket_number': '1121270581', 'violation_code': None, 'violation_description': None}\n",
      "{'agency': '1', 'agency_desc': 'WESTERN', 'body_style': 'PA', 'body_style_desc': 'PASSENGER CAR', 'color': 'TA', 'color_desc': None, 'fine_amount': None, 'issue_date': '1972-01-30T00:00:00.000', 'issue_time': '1805', 'loc_lat': '34.0451361', 'loc_long': '-118.256675', 'location': '8TH ST W/O OLIVE', 'make': 'TOYO', 'marked_time': None, 'meter_id': None, 'plate_expiry_date': '202004', 'rp_state_plate': 'CA', 'ticket_number': '1121858124', 'violation_code': None, 'violation_description': None}\n",
      "{'agency': '2', 'agency_desc': 'LAX CURRENT', 'body_style': 'TR', 'body_style_desc': 'TRAILER', 'color': 'GY', 'color_desc': 'GREY', 'fine_amount': '0', 'issue_date': '2000-01-06T00:00:00.000', 'issue_time': '642', 'loc_lat': '33.9430863', 'loc_long': '-118.3995274', 'location': '700 WORLD WAY U/L', 'make': 'FORD', 'marked_time': '0000', 'meter_id': None, 'plate_expiry_date': '202209', 'rp_state_plate': 'CA', 'ticket_number': '1128903263', 'violation_code': '8939', 'violation_description': None}\n",
      "{'agency': '54', 'agency_desc': '54 - DOT - HOLLYWOOD', 'body_style': 'PA', 'body_style_desc': 'PASSENGER CAR', 'color': 'BK', 'color_desc': 'BLACK', 'fine_amount': '0', 'issue_date': '2000-01-25T00:00:00.000', 'issue_time': '932', 'loc_lat': '34.079314', 'loc_long': '-118.313661', 'location': '5042 ROSEWOOD AV', 'make': 'SUBA', 'marked_time': '0000', 'meter_id': None, 'plate_expiry_date': '202110', 'rp_state_plate': 'CA', 'ticket_number': '1126402771', 'violation_code': '8069BS', 'violation_description': None}\n",
      "{'agency': '1', 'agency_desc': 'WESTERN', 'body_style': 'PA', 'body_style_desc': 'PASSENGER CAR', 'color': 'GO', 'color_desc': 'GOLD', 'fine_amount': '0', 'issue_date': '2000-01-28T00:00:00.000', 'issue_time': '1700', 'loc_lat': '34.1886520', 'loc_long': '-118.5884555', 'location': 'KITTRIDGE W/O DE SOT', 'make': 'ACUR', 'marked_time': '0000', 'meter_id': None, 'plate_expiry_date': '202103', 'rp_state_plate': 'CA', 'ticket_number': '1125033442', 'violation_code': '4000A1', 'violation_description': None}\n",
      "{'agency': '1', 'agency_desc': 'WESTERN', 'body_style': 'PA', 'body_style_desc': 'PASSENGER CAR', 'color': 'SI', 'color_desc': None, 'fine_amount': '0', 'issue_date': '2000-01-28T00:00:00.000', 'issue_time': '1125', 'loc_lat': '34.1854392', 'loc_long': '-118.6105479', 'location': '22216 VICTORY BL', 'make': 'HOND', 'marked_time': '0000', 'meter_id': None, 'plate_expiry_date': '201905', 'rp_state_plate': 'CA', 'ticket_number': '1125067753', 'violation_code': '4000A1', 'violation_description': None}\n",
      "{'agency': '1', 'agency_desc': 'WESTERN', 'body_style': 'PA', 'body_style_desc': 'PASSENGER CAR', 'color': 'BK', 'color_desc': 'BLACK', 'fine_amount': '0', 'issue_date': '2000-02-05T00:00:00.000', 'issue_time': '1130', 'loc_lat': '34.0536473', 'loc_long': '-118.2455167', 'location': '32/BROADWAY', 'make': 'HOND', 'marked_time': '0000', 'meter_id': None, 'plate_expiry_date': '202011', 'rp_state_plate': 'CA', 'ticket_number': '1121626240', 'violation_code': '4000A1', 'violation_description': None}\n"
     ]
    }
   ],
   "source": [
    "for record in existing:\n",
    "    print(record)"
   ]
  }
 ],
 "metadata": {
  "kernelspec": {
   "display_name": "env",
   "language": "python",
   "name": "python3"
  },
  "language_info": {
   "codemirror_mode": {
    "name": "ipython",
    "version": 3
   },
   "file_extension": ".py",
   "mimetype": "text/x-python",
   "name": "python",
   "nbconvert_exporter": "python",
   "pygments_lexer": "ipython3",
   "version": "3.10.6"
  }
 },
 "nbformat": 4,
 "nbformat_minor": 2
}
